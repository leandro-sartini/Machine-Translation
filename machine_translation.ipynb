{
 "cells": [
  {
   "cell_type": "markdown",
   "metadata": {
    "collapsed": true
   },
   "source": [
    "# Artificial Intelligence Nanodegree\n",
    "## Machine Translation Project\n",
    "In this notebook, sections that end with **'(IMPLEMENTATION)'** in the header indicate that the following blocks of code will require additional functionality which you must provide. Please be sure to read the instructions carefully!\n",
    "\n",
    "## Introduction\n",
    "In this notebook, you will build a deep neural network that functions as part of an end-to-end machine translation pipeline. Your completed pipeline will accept English text as input and return the French translation.\n",
    "\n",
    "- **Preprocess** - You'll convert text to sequence of integers.\n",
    "- **Models** Create models which accepts a sequence of integers as input and returns a probability distribution over possible translations. After learning about the basic types of neural networks that are often used for machine translation, you will engage in your own investigations, to design your own model!\n",
    "- **Prediction** Run the model on English text."
   ]
  },
  {
   "cell_type": "code",
   "execution_count": 1,
   "metadata": {},
   "outputs": [],
   "source": [
    "%load_ext autoreload\n",
    "%aimport helper, tests\n",
    "%autoreload 1"
   ]
  },
  {
   "cell_type": "code",
   "execution_count": 2,
   "metadata": {},
   "outputs": [
    {
     "name": "stderr",
     "output_type": "stream",
     "text": [
      "Using TensorFlow backend.\n"
     ]
    }
   ],
   "source": [
    "import collections\n",
    "\n",
    "import helper\n",
    "import numpy as np\n",
    "import project_tests as tests\n",
    "\n",
    "from sklearn.model_selection import train_test_split\n",
    "\n",
    "from keras.preprocessing.text import Tokenizer\n",
    "from keras.preprocessing.sequence import pad_sequences\n",
    "from keras.models import Model,Sequential\n",
    "from keras.layers import GRU, Input, Dense, TimeDistributed, Activation, RepeatVector, Bidirectional,LSTM\n",
    "from keras.layers.embeddings import Embedding\n",
    "from keras.optimizers import Adam\n",
    "from keras.losses import sparse_categorical_crossentropy"
   ]
  },
  {
   "cell_type": "markdown",
   "metadata": {},
   "source": [
    "### Verify access to the GPU\n",
    "The following test applies only if you expect to be using a GPU, e.g., while running in a Udacity Workspace or using an AWS instance with GPU support. Run the next cell, and verify that the device_type is \"GPU\".\n",
    "- If the device is not GPU & you are running from a Udacity Workspace, then save your workspace with the icon at the top, then click \"enable\" at the bottom of the workspace.\n",
    "- If the device is not GPU & you are running from an AWS instance, then refer to the cloud computing instructions in the classroom to verify your setup steps."
   ]
  },
  {
   "cell_type": "code",
   "execution_count": 3,
   "metadata": {},
   "outputs": [
    {
     "name": "stdout",
     "output_type": "stream",
     "text": [
      "[name: \"/cpu:0\"\n",
      "device_type: \"CPU\"\n",
      "memory_limit: 268435456\n",
      "locality {\n",
      "}\n",
      "incarnation: 10081110384817795068\n",
      ", name: \"/gpu:0\"\n",
      "device_type: \"GPU\"\n",
      "memory_limit: 357564416\n",
      "locality {\n",
      "  bus_id: 1\n",
      "}\n",
      "incarnation: 18287085675622009034\n",
      "physical_device_desc: \"device: 0, name: Tesla K80, pci bus id: 0000:00:04.0\"\n",
      "]\n"
     ]
    }
   ],
   "source": [
    "from tensorflow.python.client import device_lib\n",
    "print(device_lib.list_local_devices())"
   ]
  },
  {
   "cell_type": "markdown",
   "metadata": {},
   "source": [
    "## Dataset\n",
    "We begin by investigating the dataset that will be used to train and evaluate your pipeline.  The most common datasets used for machine translation are from [WMT](http://www.statmt.org/).  However, that will take a long time to train a neural network on.  We'll be using a dataset we created for this project that contains a small vocabulary.  You'll be able to train your model in a reasonable time with this dataset.\n",
    "### Load Data\n",
    "The data is located in `data/small_vocab_en` and `data/small_vocab_fr`. The `small_vocab_en` file contains English sentences with their French translations in the `small_vocab_fr` file. Load the English and French data from these files from running the cell below."
   ]
  },
  {
   "cell_type": "code",
   "execution_count": 4,
   "metadata": {},
   "outputs": [
    {
     "name": "stdout",
     "output_type": "stream",
     "text": [
      "Dataset Loaded\n"
     ]
    }
   ],
   "source": [
    "# Load English data\n",
    "english_sentences = helper.load_data('data/small_vocab_en')\n",
    "# Load French data\n",
    "french_sentences = helper.load_data('data/small_vocab_fr')\n",
    "\n",
    "print('Dataset Loaded')"
   ]
  },
  {
   "cell_type": "markdown",
   "metadata": {},
   "source": [
    "### Files\n",
    "Each line in `small_vocab_en` contains an English sentence with the respective translation in each line of `small_vocab_fr`.  View the first two lines from each file."
   ]
  },
  {
   "cell_type": "code",
   "execution_count": 5,
   "metadata": {},
   "outputs": [
    {
     "name": "stdout",
     "output_type": "stream",
     "text": [
      "small_vocab_en Line 1:  new jersey is sometimes quiet during autumn , and it is snowy in april .\n",
      "small_vocab_fr Line 1:  new jersey est parfois calme pendant l' automne , et il est neigeux en avril .\n",
      "small_vocab_en Line 2:  the united states is usually chilly during july , and it is usually freezing in november .\n",
      "small_vocab_fr Line 2:  les états-unis est généralement froid en juillet , et il gèle habituellement en novembre .\n"
     ]
    }
   ],
   "source": [
    "for sample_i in range(2):\n",
    "    print('small_vocab_en Line {}:  {}'.format(sample_i + 1, english_sentences[sample_i]))\n",
    "    print('small_vocab_fr Line {}:  {}'.format(sample_i + 1, french_sentences[sample_i]))"
   ]
  },
  {
   "cell_type": "markdown",
   "metadata": {},
   "source": [
    "From looking at the sentences, you can see they have been preprocessed already.  The puncuations have been delimited using spaces. All the text have been converted to lowercase.  This should save you some time, but the text requires more preprocessing.\n",
    "### Vocabulary\n",
    "The complexity of the problem is determined by the complexity of the vocabulary.  A more complex vocabulary is a more complex problem.  Let's look at the complexity of the dataset we'll be working with."
   ]
  },
  {
   "cell_type": "code",
   "execution_count": 6,
   "metadata": {},
   "outputs": [
    {
     "name": "stdout",
     "output_type": "stream",
     "text": [
      "1823250 English words.\n",
      "227 unique English words.\n",
      "10 Most common words in the English dataset:\n",
      "\"is\" \",\" \".\" \"in\" \"it\" \"during\" \"the\" \"but\" \"and\" \"sometimes\"\n",
      "\n",
      "1961295 French words.\n",
      "355 unique French words.\n",
      "10 Most common words in the French dataset:\n",
      "\"est\" \".\" \",\" \"en\" \"il\" \"les\" \"mais\" \"et\" \"la\" \"parfois\"\n"
     ]
    }
   ],
   "source": [
    "english_words_counter = collections.Counter([word for sentence in english_sentences for word in sentence.split()])\n",
    "french_words_counter = collections.Counter([word for sentence in french_sentences for word in sentence.split()])\n",
    "\n",
    "print('{} English words.'.format(len([word for sentence in english_sentences for word in sentence.split()])))\n",
    "print('{} unique English words.'.format(len(english_words_counter)))\n",
    "print('10 Most common words in the English dataset:')\n",
    "print('\"' + '\" \"'.join(list(zip(*english_words_counter.most_common(10)))[0]) + '\"')\n",
    "print()\n",
    "print('{} French words.'.format(len([word for sentence in french_sentences for word in sentence.split()])))\n",
    "print('{} unique French words.'.format(len(french_words_counter)))\n",
    "print('10 Most common words in the French dataset:')\n",
    "print('\"' + '\" \"'.join(list(zip(*french_words_counter.most_common(10)))[0]) + '\"')"
   ]
  },
  {
   "cell_type": "markdown",
   "metadata": {},
   "source": [
    "For comparison, _Alice's Adventures in Wonderland_ contains 2,766 unique words of a total of 15,500 words.\n",
    "## Preprocess\n",
    "For this project, you won't use text data as input to your model. Instead, you'll convert the text into sequences of integers using the following preprocess methods:\n",
    "1. Tokenize the words into ids\n",
    "2. Add padding to make all the sequences the same length.\n",
    "\n",
    "Time to start preprocessing the data...\n",
    "### Tokenize (IMPLEMENTATION)\n",
    "For a neural network to predict on text data, it first has to be turned into data it can understand. Text data like \"dog\" is a sequence of ASCII character encodings.  Since a neural network is a series of multiplication and addition operations, the input data needs to be number(s).\n",
    "\n",
    "We can turn each character into a number or each word into a number.  These are called character and word ids, respectively.  Character ids are used for character level models that generate text predictions for each character.  A word level model uses word ids that generate text predictions for each word.  Word level models tend to learn better, since they are lower in complexity, so we'll use those.\n",
    "\n",
    "Turn each sentence into a sequence of words ids using Keras's [`Tokenizer`](https://keras.io/preprocessing/text/#tokenizer) function. Use this function to tokenize `english_sentences` and `french_sentences` in the cell below.\n",
    "\n",
    "Running the cell will run `tokenize` on sample data and show output for debugging."
   ]
  },
  {
   "cell_type": "code",
   "execution_count": 7,
   "metadata": {},
   "outputs": [
    {
     "name": "stdout",
     "output_type": "stream",
     "text": [
      "{'the': 1, 'quick': 2, 'a': 3, 'brown': 4, 'fox': 5, 'jumps': 6, 'over': 7, 'lazy': 8, 'dog': 9, 'by': 10, 'jove': 11, 'my': 12, 'study': 13, 'of': 14, 'lexicography': 15, 'won': 16, 'prize': 17, 'this': 18, 'is': 19, 'short': 20, 'sentence': 21}\n",
      "\n",
      "Sequence 1 in x\n",
      "  Input:  The quick brown fox jumps over the lazy dog .\n",
      "  Output: [1, 2, 4, 5, 6, 7, 1, 8, 9]\n",
      "Sequence 2 in x\n",
      "  Input:  By Jove , my quick study of lexicography won a prize .\n",
      "  Output: [10, 11, 12, 2, 13, 14, 15, 16, 3, 17]\n",
      "Sequence 3 in x\n",
      "  Input:  This is a short sentence .\n",
      "  Output: [18, 19, 3, 20, 21]\n"
     ]
    }
   ],
   "source": [
    "def tokenize(x):\n",
    "    \"\"\"\n",
    "    Tokenize x\n",
    "    :param x: List of sentences/strings to be tokenized\n",
    "    :return: Tuple of (tokenized x data, tokenizer used to tokenize x)\n",
    "    \"\"\"\n",
    "    # TODO: Implement\n",
    "    tk = Tokenizer()\n",
    "    tk.fit_on_texts(x)\n",
    "    \n",
    "    return tk.texts_to_sequences(x), tk\n",
    "tests.test_tokenize(tokenize)\n",
    "\n",
    "# Tokenize Example output\n",
    "text_sentences = [\n",
    "    'The quick brown fox jumps over the lazy dog .',\n",
    "    'By Jove , my quick study of lexicography won a prize .',\n",
    "    'This is a short sentence .']\n",
    "text_tokenized, text_tokenizer = tokenize(text_sentences)\n",
    "print(text_tokenizer.word_index)\n",
    "print()\n",
    "for sample_i, (sent, token_sent) in enumerate(zip(text_sentences, text_tokenized)):\n",
    "    print('Sequence {} in x'.format(sample_i + 1))\n",
    "    print('  Input:  {}'.format(sent))\n",
    "    print('  Output: {}'.format(token_sent))"
   ]
  },
  {
   "cell_type": "markdown",
   "metadata": {},
   "source": [
    "### Padding (IMPLEMENTATION)\n",
    "When batching the sequence of word ids together, each sequence needs to be the same length.  Since sentences are dynamic in length, we can add padding to the end of the sequences to make them the same length.\n",
    "\n",
    "Make sure all the English sequences have the same length and all the French sequences have the same length by adding padding to the **end** of each sequence using Keras's [`pad_sequences`](https://keras.io/preprocessing/sequence/#pad_sequences) function."
   ]
  },
  {
   "cell_type": "code",
   "execution_count": 8,
   "metadata": {},
   "outputs": [
    {
     "name": "stdout",
     "output_type": "stream",
     "text": [
      "Sequence 1 in x\n",
      "  Input:  [1 2 4 5 6 7 1 8 9]\n",
      "  Output: [1 2 4 5 6 7 1 8 9 0]\n",
      "Sequence 2 in x\n",
      "  Input:  [10 11 12  2 13 14 15 16  3 17]\n",
      "  Output: [10 11 12  2 13 14 15 16  3 17]\n",
      "Sequence 3 in x\n",
      "  Input:  [18 19  3 20 21]\n",
      "  Output: [18 19  3 20 21  0  0  0  0  0]\n"
     ]
    }
   ],
   "source": [
    "def pad(x, length=None):\n",
    "    \"\"\"\n",
    "    Pad x\n",
    "    :param x: List of sequences.\n",
    "    :param length: Length to pad the sequence to.  If None, use length of longest sequence in x.\n",
    "    :return: Padded numpy array of sequences\n",
    "    \"\"\"\n",
    "    # TODO: Implement\n",
    "    if length == None:\n",
    "        length = max([len(sentence) for sentence in x])\n",
    "    \n",
    "    return pad_sequences(x,maxlen=length, padding='post')\n",
    "\n",
    "tests.test_pad(pad)\n",
    "\n",
    "# Pad Tokenized output\n",
    "test_pad = pad(text_tokenized)\n",
    "for sample_i, (token_sent, pad_sent) in enumerate(zip(text_tokenized, test_pad)):\n",
    "    print('Sequence {} in x'.format(sample_i + 1))\n",
    "    print('  Input:  {}'.format(np.array(token_sent)))\n",
    "    print('  Output: {}'.format(pad_sent))"
   ]
  },
  {
   "cell_type": "markdown",
   "metadata": {},
   "source": [
    "### Preprocess Pipeline\n",
    "Your focus for this project is to build neural network architecture, so we won't ask you to create a preprocess pipeline.  Instead, we've provided you with the implementation of the `preprocess` function."
   ]
  },
  {
   "cell_type": "code",
   "execution_count": 9,
   "metadata": {},
   "outputs": [
    {
     "name": "stdout",
     "output_type": "stream",
     "text": [
      "Data Preprocessed\n",
      "Max English sentence length: 15\n",
      "Max French sentence length: 21\n",
      "English vocabulary size: 199\n",
      "French vocabulary size: 344\n"
     ]
    }
   ],
   "source": [
    "def preprocess(x, y):\n",
    "    \"\"\"\n",
    "    Preprocess x and y\n",
    "    :param x: Feature List of sentences\n",
    "    :param y: Label List of sentences\n",
    "    :return: Tuple of (Preprocessed x, Preprocessed y, x tokenizer, y tokenizer)\n",
    "    \"\"\"\n",
    "    preprocess_x, x_tk = tokenize(x)\n",
    "    preprocess_y, y_tk = tokenize(y)\n",
    "\n",
    "    preprocess_x = pad(preprocess_x)\n",
    "    preprocess_y = pad(preprocess_y)\n",
    "\n",
    "    # Keras's sparse_categorical_crossentropy function requires the labels to be in 3 dimensions\n",
    "    preprocess_y = preprocess_y.reshape(*preprocess_y.shape, 1)\n",
    "\n",
    "    return preprocess_x, preprocess_y, x_tk, y_tk\n",
    "\n",
    "preproc_english_sentences, preproc_french_sentences, english_tokenizer, french_tokenizer =\\\n",
    "    preprocess(english_sentences, french_sentences)\n",
    "\n",
    "X_train,X_test,y_train,y_test = train_test_split(preproc_english_sentences,preproc_french_sentences,test_size = 0.15,random_state =2)\n",
    "\n",
    "max_english_sequence_length = preproc_english_sentences.shape[1]\n",
    "max_french_sequence_length = preproc_french_sentences.shape[1]\n",
    "english_vocab_size = len(english_tokenizer.word_index)\n",
    "french_vocab_size = len(french_tokenizer.word_index)\n",
    "\n",
    "print('Data Preprocessed')\n",
    "print(\"Max English sentence length:\", max_english_sequence_length)\n",
    "print(\"Max French sentence length:\", max_french_sequence_length)\n",
    "print(\"English vocabulary size:\", english_vocab_size)\n",
    "print(\"French vocabulary size:\", french_vocab_size)"
   ]
  },
  {
   "cell_type": "markdown",
   "metadata": {},
   "source": [
    "## Models\n",
    "In this section, you will experiment with various neural network architectures.\n",
    "You will begin by training four relatively simple architectures.\n",
    "- Model 1 is a simple RNN\n",
    "- Model 2 is a RNN with Embedding\n",
    "- Model 3 is a Bidirectional RNN\n",
    "- Model 4 is an Encoder-Decoder RNN\n",
    "\n",
    "After experimenting with the four simple architectures, you will construct a deeper architecture that is designed to outperform all four models.\n",
    "### Ids Back to Text\n",
    "The neural network will be translating the input to words ids, which isn't the final form we want.  We want the French translation.  The function `logits_to_text` will bridge the gab between the logits from the neural network to the French translation.  You'll be using this function to better understand the output of the neural network."
   ]
  },
  {
   "cell_type": "code",
   "execution_count": 10,
   "metadata": {},
   "outputs": [
    {
     "name": "stdout",
     "output_type": "stream",
     "text": [
      "`logits_to_text` function loaded.\n"
     ]
    }
   ],
   "source": [
    "def logits_to_text(logits, tokenizer):\n",
    "    \"\"\"\n",
    "    Turn logits from a neural network into text using the tokenizer\n",
    "    :param logits: Logits from a neural network\n",
    "    :param tokenizer: Keras Tokenizer fit on the labels\n",
    "    :return: String that represents the text of the logits\n",
    "    \"\"\"\n",
    "    index_to_words = {id: word for word, id in tokenizer.word_index.items()}\n",
    "    index_to_words[0] = '<PAD>'\n",
    "\n",
    "    return ' '.join([index_to_words[prediction] for prediction in np.argmax(logits, 1)])\n",
    "\n",
    "print('`logits_to_text` function loaded.')"
   ]
  },
  {
   "cell_type": "markdown",
   "metadata": {},
   "source": [
    "### Model 1: RNN (IMPLEMENTATION)\n",
    "![RNN](images/rnn.png)\n",
    "A basic RNN model is a good baseline for sequence data.  In this model, you'll build a RNN that translates English to French."
   ]
  },
  {
   "cell_type": "code",
   "execution_count": 11,
   "metadata": {},
   "outputs": [
    {
     "name": "stdout",
     "output_type": "stream",
     "text": [
      "Train on 110288 samples, validate on 27573 samples\n",
      "Epoch 1/20\n",
      "110288/110288 [==============================] - 19s 174us/step - loss: 2.2353 - acc: 0.5159 - val_loss: nan - val_acc: 0.5938\n",
      "Epoch 2/20\n",
      "110288/110288 [==============================] - 17s 157us/step - loss: 1.4390 - acc: 0.6110 - val_loss: nan - val_acc: 0.6263\n",
      "Epoch 3/20\n",
      "110288/110288 [==============================] - 17s 157us/step - loss: 1.2613 - acc: 0.6380 - val_loss: nan - val_acc: 0.6467\n",
      "Epoch 4/20\n",
      "110288/110288 [==============================] - 17s 157us/step - loss: 1.1499 - acc: 0.6561 - val_loss: nan - val_acc: 0.6605\n",
      "Epoch 5/20\n",
      "110288/110288 [==============================] - 17s 158us/step - loss: 1.0712 - acc: 0.6706 - val_loss: nan - val_acc: 0.6741\n",
      "Epoch 6/20\n",
      "110288/110288 [==============================] - 17s 158us/step - loss: 1.0135 - acc: 0.6796 - val_loss: nan - val_acc: 0.6741\n",
      "Epoch 7/20\n",
      "110288/110288 [==============================] - 17s 158us/step - loss: 0.9696 - acc: 0.6858 - val_loss: nan - val_acc: 0.6902\n",
      "Epoch 8/20\n",
      "110288/110288 [==============================] - 17s 158us/step - loss: 0.9295 - acc: 0.6954 - val_loss: nan - val_acc: 0.6994\n",
      "Epoch 9/20\n",
      "110288/110288 [==============================] - 17s 158us/step - loss: 0.8883 - acc: 0.7070 - val_loss: nan - val_acc: 0.7193\n",
      "Epoch 10/20\n",
      "110288/110288 [==============================] - 17s 158us/step - loss: 0.8486 - acc: 0.7205 - val_loss: nan - val_acc: 0.7302\n",
      "Epoch 11/20\n",
      "110288/110288 [==============================] - 17s 158us/step - loss: 0.8067 - acc: 0.7375 - val_loss: nan - val_acc: 0.7434\n",
      "Epoch 12/20\n",
      "110288/110288 [==============================] - 17s 158us/step - loss: 0.7669 - acc: 0.7529 - val_loss: nan - val_acc: 0.7566\n",
      "Epoch 13/20\n",
      "110288/110288 [==============================] - 17s 158us/step - loss: 0.7319 - acc: 0.7675 - val_loss: nan - val_acc: 0.7697\n",
      "Epoch 14/20\n",
      "110288/110288 [==============================] - 17s 158us/step - loss: 0.7050 - acc: 0.7768 - val_loss: nan - val_acc: 0.7812\n",
      "Epoch 15/20\n",
      "110288/110288 [==============================] - 17s 158us/step - loss: 0.6795 - acc: 0.7863 - val_loss: nan - val_acc: 0.7796\n",
      "Epoch 16/20\n",
      "110288/110288 [==============================] - 17s 158us/step - loss: 0.6641 - acc: 0.7901 - val_loss: nan - val_acc: 0.7980\n",
      "Epoch 17/20\n",
      "110288/110288 [==============================] - 17s 158us/step - loss: 0.6381 - acc: 0.8010 - val_loss: nan - val_acc: 0.7995\n",
      "Epoch 18/20\n",
      "110288/110288 [==============================] - 17s 158us/step - loss: 0.6291 - acc: 0.8024 - val_loss: nan - val_acc: 0.8068\n",
      "Epoch 19/20\n",
      "110288/110288 [==============================] - 17s 158us/step - loss: 0.6041 - acc: 0.8128 - val_loss: nan - val_acc: 0.8153\n",
      "Epoch 20/20\n",
      "110288/110288 [==============================] - 17s 158us/step - loss: 0.5993 - acc: 0.8116 - val_loss: nan - val_acc: 0.8144\n",
      "les états unis est jamais pluvieux en décembre et il est beau en février <PAD> <PAD> <PAD> <PAD> <PAD> <PAD> <PAD>\n",
      "l' inde est jamais pluvieux en décembre mais il est relaxant en septembre <PAD> <PAD> <PAD> <PAD> <PAD> <PAD> <PAD> <PAD>\n"
     ]
    }
   ],
   "source": [
    "def simple_model(input_shape, output_sequence_length, english_vocab_size, french_vocab_size):\n",
    "    \"\"\"\n",
    "    Build and train a basic RNN on x and y\n",
    "    :param input_shape: Tuple of input shape\n",
    "    :param output_sequence_length: Length of output sequence\n",
    "    :param english_vocab_size: Number of unique English words in the dataset\n",
    "    :param french_vocab_size: Number of unique French words in the dataset\n",
    "    :return: Keras model built, but not trained\n",
    "    \"\"\"\n",
    "    # TODO: Build the layers\n",
    "    learning_rate = 0.001\n",
    "    # Define the input layer\n",
    "    inputs = Input(input_shape[1:],name='input_layer')\n",
    "    # Define the RNN layer\n",
    "    rnn = GRU(512, return_sequences=True)(inputs)\n",
    "    # Add a dense layer on top of the RNN\n",
    "    logits = TimeDistributed(Dense(french_vocab_size,activation = 'softmax',name='output_layer'))(rnn)\n",
    "    # Create the model\n",
    "    model = Model(inputs,logits)\n",
    "    \n",
    "    model.compile(loss=sparse_categorical_crossentropy,\n",
    "                  optimizer=Adam(learning_rate),\n",
    "                  metrics=['accuracy'])\n",
    "    return model\n",
    "tests.test_simple_model(simple_model)\n",
    "# Reshaping the input to work with a basic RNN\n",
    "tmp_train = pad(X_train, max_french_sequence_length)\n",
    "tmp_train = tmp_train.reshape((-1, y_train.shape[-2], 1))\n",
    "tmp_test = pad(X_test, max_french_sequence_length)\n",
    "tmp_test = tmp_test.reshape((-1, y_test.shape[-2], 1))\n",
    "tmp_x = pad(preproc_english_sentences, max_french_sequence_length)\n",
    "tmp_x = tmp_x.reshape((-1, preproc_french_sentences.shape[-2], 1))\n",
    "\n",
    "# Train the neural network\n",
    "simple_rnn_model = simple_model(\n",
    "    tmp_x.shape,\n",
    "    max_french_sequence_length,\n",
    "    english_vocab_size,\n",
    "    french_vocab_size)\n",
    "simple_rnn_model.fit(tmp_x, preproc_french_sentences, batch_size=1024, epochs=20, validation_split = 0.2)\n",
    "# Print prediction(s)\n",
    "print(logits_to_text(simple_rnn_model.predict(tmp_train[:1])[0], french_tokenizer))\n",
    "print(logits_to_text(simple_rnn_model.predict(tmp_test[:1])[0], french_tokenizer))"
   ]
  },
  {
   "cell_type": "markdown",
   "metadata": {},
   "source": [
    "### Model 2: Embedding (IMPLEMENTATION)\n",
    "![RNN](images/embedding.png)\n",
    "You've turned the words into ids, but there's a better representation of a word.  This is called word embeddings.  An embedding is a vector representation of the word that is close to similar words in n-dimensional space, where the n represents the size of the embedding vectors.\n",
    "\n",
    "In this model, you'll create a RNN model using embedding."
   ]
  },
  {
   "cell_type": "code",
   "execution_count": 12,
   "metadata": {},
   "outputs": [],
   "source": [
    "def embed_model(input_shape, output_sequence_length, english_vocab_size, french_vocab_size):\n",
    "    \"\"\"\n",
    "    Build and train a RNN model using word embedding on x and y\n",
    "    :param input_shape: Tuple of input shape\n",
    "    :param output_sequence_length: Length of output sequence\n",
    "    :param english_vocab_size: Number of unique English words in the dataset\n",
    "    :param french_vocab_size: Number of unique French words in the dataset\n",
    "    :return: Keras model built, but not trained\n",
    "    \"\"\"\n",
    "    # TODO: Implement\n",
    "    # TODO: Build the layers\n",
    "    \n",
    "    learning_rate = 0.001\n",
    "    \n",
    "    # Define the input layer\n",
    "    inputs = Input(input_shape[1:])\n",
    "    \n",
    "    # Define the Embedding Layer\n",
    "    embedding = Embedding(english_vocab_size, 512)(inputs)\n",
    "    \n",
    "    # Define the RNN layer\n",
    "    rnn = LSTM(512, return_sequences=True)(embedding)\n",
    "\n",
    "    # Add a dense layer on top of the RNN\n",
    "    logits = Dense(french_vocab_size,activation = 'softmax')(rnn)\n",
    "\n",
    "    # Create the model\n",
    "    model = Model(inputs, logits)\n",
    "    \n",
    "    model.compile(loss=sparse_categorical_crossentropy,\n",
    "                  optimizer=Adam(learning_rate),\n",
    "                  metrics=['accuracy'])\n",
    "    return model\n",
    "tests.test_embed_model(embed_model)\n",
    "\n",
    "# Reshaping the input to work with a basic RNN\n",
    "tmp_x = pad(preproc_english_sentences, max_french_sequence_length)"
   ]
  },
  {
   "cell_type": "code",
   "execution_count": 13,
   "metadata": {},
   "outputs": [
    {
     "name": "stdout",
     "output_type": "stream",
     "text": [
      "Train on 110288 samples, validate on 27573 samples\n",
      "Epoch 1/10\n",
      "110288/110288 [==============================] - 32s 291us/step - loss: 2.6815 - acc: 0.4909 - val_loss: nan - val_acc: 0.5873\n",
      "Epoch 2/10\n",
      "110288/110288 [==============================] - 32s 287us/step - loss: 1.2869 - acc: 0.6809 - val_loss: nan - val_acc: 0.7685\n",
      "Epoch 3/10\n",
      "110288/110288 [==============================] - 32s 287us/step - loss: 0.6546 - acc: 0.8171 - val_loss: nan - val_acc: 0.8458\n",
      "Epoch 4/10\n",
      "110288/110288 [==============================] - 32s 287us/step - loss: 0.4407 - acc: 0.8627 - val_loss: nan - val_acc: 0.8767\n",
      "Epoch 5/10\n",
      "110288/110288 [==============================] - 32s 288us/step - loss: 0.3524 - acc: 0.8872 - val_loss: nan - val_acc: 0.8952\n",
      "Epoch 6/10\n",
      "110288/110288 [==============================] - 32s 288us/step - loss: 0.3005 - acc: 0.9029 - val_loss: nan - val_acc: 0.9094\n",
      "Epoch 7/10\n",
      "110288/110288 [==============================] - 32s 288us/step - loss: 0.2670 - acc: 0.9129 - val_loss: nan - val_acc: 0.9143\n",
      "Epoch 8/10\n",
      "110288/110288 [==============================] - 32s 288us/step - loss: 0.2437 - acc: 0.9193 - val_loss: nan - val_acc: 0.9192\n",
      "Epoch 9/10\n",
      "110288/110288 [==============================] - 32s 288us/step - loss: 0.2267 - acc: 0.9240 - val_loss: nan - val_acc: 0.9241\n",
      "Epoch 10/10\n",
      "110288/110288 [==============================] - 32s 288us/step - loss: 0.2153 - acc: 0.9271 - val_loss: nan - val_acc: 0.9263\n",
      "new jersey est parfois calme en l' automne et il est il en avril <PAD> <PAD> <PAD> <PAD> <PAD> <PAD> <PAD>\n"
     ]
    }
   ],
   "source": [
    "# Train the neural network\n",
    "embbeded_model = embed_model(\n",
    "    tmp_x.shape,\n",
    "    max_french_sequence_length,\n",
    "    english_vocab_size,\n",
    "    french_vocab_size)\n",
    "embbeded_model.fit(tmp_x, preproc_french_sentences, batch_size=1024, epochs=10, validation_split=0.2)\n",
    "\n",
    "# Print prediction(s)\n",
    "print(logits_to_text(embbeded_model.predict(tmp_x[:1])[0], french_tokenizer))"
   ]
  },
  {
   "cell_type": "markdown",
   "metadata": {},
   "source": [
    "### Model 3: Bidirectional RNNs (IMPLEMENTATION)\n",
    "![RNN](images/bidirectional.png)\n",
    "One restriction of a RNN is that it can't see the future input, only the past.  This is where bidirectional recurrent neural networks come in.  They are able to see the future data."
   ]
  },
  {
   "cell_type": "code",
   "execution_count": 74,
   "metadata": {},
   "outputs": [],
   "source": [
    "def bd_model(input_shape, output_sequence_length, english_vocab_size, french_vocab_size):\n",
    "    \"\"\"\n",
    "    Build and train a bidirectional RNN model on x and y\n",
    "    :param input_shape: Tuple of input shape\n",
    "    :param output_sequence_length: Length of output sequence\n",
    "    :param english_vocab_size: Number of unique English words in the dataset\n",
    "    :param french_vocab_size: Number of unique French words in the dataset\n",
    "    :return: Keras model built, but not trained\n",
    "    \"\"\"\n",
    "    learning_rate = 0.001\n",
    "\n",
    "    # Define the input layer\n",
    "    inputs = Input(input_shape[1:])\n",
    "    \n",
    "    # Define the Bidirectional RNN\n",
    "    bidirectional_rnn =Bidirectional(LSTM(256, return_sequences=True))(inputs)\n",
    "\n",
    "    # Add a dense layer on top of the RNN\n",
    "    logits = Dense(french_vocab_size,activation = 'softmax')(bidirectional_rnn)\n",
    "    \n",
    "    # Create the model\n",
    "    model = Model(inputs, logits)\n",
    "\n",
    "    model.compile(loss=sparse_categorical_crossentropy,\n",
    "                  optimizer=Adam(learning_rate),\n",
    "                  metrics=['accuracy'])\n",
    "    return model\n",
    "\n",
    "tests.test_bd_model(bd_model)"
   ]
  },
  {
   "cell_type": "code",
   "execution_count": 28,
   "metadata": {},
   "outputs": [
    {
     "name": "stdout",
     "output_type": "stream",
     "text": [
      "Train on 110288 samples, validate on 27573 samples\n",
      "Epoch 1/10\n",
      "110288/110288 [==============================] - 29s 263us/step - loss: 2.1676 - acc: 0.5364 - val_loss: nan - val_acc: 0.6094\n",
      "Epoch 2/10\n",
      "110288/110288 [==============================] - 28s 256us/step - loss: 1.3874 - acc: 0.6249 - val_loss: nan - val_acc: 0.6361\n",
      "Epoch 3/10\n",
      "110288/110288 [==============================] - 28s 256us/step - loss: 1.2346 - acc: 0.6465 - val_loss: nan - val_acc: 0.6524\n",
      "Epoch 4/10\n",
      "110288/110288 [==============================] - 28s 256us/step - loss: 1.1580 - acc: 0.6601 - val_loss: nan - val_acc: 0.6638\n",
      "Epoch 5/10\n",
      "110288/110288 [==============================] - 28s 257us/step - loss: 1.1032 - acc: 0.6734 - val_loss: nan - val_acc: 0.6765\n",
      "Epoch 6/10\n",
      "110288/110288 [==============================] - 28s 257us/step - loss: 1.0642 - acc: 0.6814 - val_loss: nan - val_acc: 0.6837\n",
      "Epoch 7/10\n",
      "110288/110288 [==============================] - 28s 256us/step - loss: 1.0247 - acc: 0.6884 - val_loss: nan - val_acc: 0.6928\n",
      "Epoch 8/10\n",
      "110288/110288 [==============================] - 28s 256us/step - loss: 0.9935 - acc: 0.6941 - val_loss: nan - val_acc: 0.6993\n",
      "Epoch 9/10\n",
      "110288/110288 [==============================] - 28s 257us/step - loss: 0.9668 - acc: 0.6989 - val_loss: nan - val_acc: 0.6988\n",
      "Epoch 10/10\n",
      "110288/110288 [==============================] - 28s 257us/step - loss: 0.9430 - acc: 0.7029 - val_loss: nan - val_acc: 0.7078\n",
      "new jersey est parfois calme en l' et il est il en en <PAD> <PAD> <PAD> <PAD> <PAD> <PAD> <PAD> <PAD>\n"
     ]
    }
   ],
   "source": [
    "\n",
    "# TODO: Train and Print prediction(s)\n",
    "# Reshaping the input to work with a basic RNN\n",
    "tmp_x = pad(preproc_english_sentences, max_french_sequence_length)\n",
    "tmp_x = tmp_x.reshape((-1, preproc_french_sentences.shape[-2], 1))\n",
    "\n",
    "# Train the neural network\n",
    "bi_d_model = bd_model(\n",
    "    tmp_x.shape,\n",
    "    max_french_sequence_length,\n",
    "    english_vocab_size,\n",
    "    french_vocab_size)\n",
    "bi_d_model.fit(tmp_x, preproc_french_sentences, batch_size=1024, epochs=10, validation_split=0.2)\n",
    "\n",
    "# Print prediction(s)\n",
    "print(logits_to_text(bi_d_model.predict(tmp_x[:1])[0], french_tokenizer))"
   ]
  },
  {
   "cell_type": "markdown",
   "metadata": {},
   "source": [
    "### Also Tested Bi-Directional + Embedding and results were very good."
   ]
  },
  {
   "cell_type": "markdown",
   "metadata": {},
   "source": [
    "### Model 4: Encoder-Decoder (IMPLEMENTATION)\n",
    "Time to look at encoder-decoder models.  This model is made up of an encoder and decoder. The encoder creates a matrix representation of the sentence.  The decoder takes this matrix as input and predicts the translation as output.\n",
    "\n",
    "Create an encoder-decoder model in the cell below."
   ]
  },
  {
   "cell_type": "code",
   "execution_count": 11,
   "metadata": {},
   "outputs": [
    {
     "name": "stdout",
     "output_type": "stream",
     "text": [
      "Train on 110288 samples, validate on 27573 samples\n",
      "Epoch 1/10\n",
      "110288/110288 [==============================] - 26s 236us/step - loss: 2.8531 - acc: 0.4495 - val_loss: nan - val_acc: 0.4937\n",
      "Epoch 2/10\n",
      "110288/110288 [==============================] - 24s 220us/step - loss: 2.1313 - acc: 0.5242 - val_loss: nan - val_acc: 0.5315\n",
      "Epoch 3/10\n",
      "110288/110288 [==============================] - 24s 220us/step - loss: 1.7978 - acc: 0.5533 - val_loss: nan - val_acc: 0.5713\n",
      "Epoch 4/10\n",
      "110288/110288 [==============================] - 24s 220us/step - loss: 1.5827 - acc: 0.5799 - val_loss: nan - val_acc: 0.5882\n",
      "Epoch 5/10\n",
      "110288/110288 [==============================] - 24s 220us/step - loss: 1.4625 - acc: 0.6009 - val_loss: nan - val_acc: 0.6106\n",
      "Epoch 6/10\n",
      "110288/110288 [==============================] - 24s 221us/step - loss: 1.3750 - acc: 0.6181 - val_loss: nan - val_acc: 0.6240\n",
      "Epoch 7/10\n",
      "110288/110288 [==============================] - 24s 221us/step - loss: 1.3140 - acc: 0.6297 - val_loss: nan - val_acc: 0.6365\n",
      "Epoch 8/10\n",
      "110288/110288 [==============================] - 24s 221us/step - loss: 1.2654 - acc: 0.6370 - val_loss: nan - val_acc: 0.6433\n",
      "Epoch 9/10\n",
      "110288/110288 [==============================] - 24s 221us/step - loss: 1.2129 - acc: 0.6448 - val_loss: nan - val_acc: 0.6484\n",
      "Epoch 10/10\n",
      "110288/110288 [==============================] - 24s 221us/step - loss: 1.1782 - acc: 0.6507 - val_loss: nan - val_acc: 0.6430\n",
      "new jersey est jamais froid en mois et il est est en <PAD> <PAD> <PAD> <PAD> <PAD> <PAD> <PAD> <PAD> <PAD>\n"
     ]
    }
   ],
   "source": [
    "def encdec_model(input_shape, output_sequence_length, english_vocab_size, french_vocab_size):\n",
    "    \"\"\"\n",
    "    Build and train an encoder-decoder model on x and y\n",
    "    :param input_shape: Tuple of input shape\n",
    "    :param output_sequence_length: Length of output sequence\n",
    "    :param english_vocab_size: Number of unique English words in the dataset\n",
    "    :param french_vocab_size: Number of unique French words in the dataset\n",
    "    :return: Keras model built, but not trained\n",
    "    \"\"\"\n",
    "    learning_rate = 0.001\n",
    "    # Define encoder Input\n",
    "    enc_input = Input(shape=input_shape[1:])\n",
    "    \n",
    "    # Define the Enconder with 256 Units using repeat vector\n",
    "    encoder = LSTM(256)(enc_input)\n",
    "    encoder_out = RepeatVector(output_sequence_length)(encoder)\n",
    "    \n",
    "    # Defining the Decoder with 256 Units and returning sequences\n",
    "    decoder = LSTM(256,return_sequences=True)\n",
    "    \n",
    "    # Output uses enconder output\n",
    "    decoder_out = decoder(encoder_out)\n",
    "    logits = Dense(french_vocab_size,activation='softmax')(decoder_out)\n",
    "    \n",
    "    model = Model(enc_input,logits)\n",
    "    \n",
    "    model.compile(loss=sparse_categorical_crossentropy,optimizer=Adam(learning_rate),metrics=['accuracy'])\n",
    "\n",
    "    return model\n",
    "\n",
    "tests.test_encdec_model(encdec_model)\n",
    "\n",
    "\n",
    "# TODO: Train and Print prediction(s)\n",
    "# Reshaping the input to work with a basic RNN\n",
    "tmp_x = pad(preproc_english_sentences, max_french_sequence_length)\n",
    "tmp_x = tmp_x.reshape((-1, preproc_french_sentences.shape[-2], 1))\n",
    "\n",
    "# Train the neural network\n",
    "enc_d_model = encdec_model(\n",
    "    tmp_x.shape,\n",
    "    max_french_sequence_length,\n",
    "    english_vocab_size,\n",
    "    french_vocab_size)\n",
    "enc_d_model.fit(tmp_x, preproc_french_sentences, batch_size=1024, epochs=10, validation_split=0.2)\n",
    "\n",
    "# Print prediction(s)\n",
    "print(logits_to_text(enc_d_model.predict(tmp_x[:1])[0], french_tokenizer))"
   ]
  },
  {
   "cell_type": "markdown",
   "metadata": {},
   "source": [
    "### Model 5: Custom (IMPLEMENTATION)\n",
    "Use everything you learned from the previous models to create a model that incorporates embedding and a bidirectional rnn into one model."
   ]
  },
  {
   "cell_type": "code",
   "execution_count": 26,
   "metadata": {},
   "outputs": [
    {
     "name": "stdout",
     "output_type": "stream",
     "text": [
      "Final Model Loaded\n",
      "Train on 110288 samples, validate on 27573 samples\n",
      "Epoch 1/9\n",
      "110288/110288 [==============================] - 49s 441us/step - loss: 2.4904 - acc: 0.4780 - val_loss: nan - val_acc: 0.5649\n",
      "Epoch 2/9\n",
      "110288/110288 [==============================] - 47s 430us/step - loss: 1.4752 - acc: 0.6162 - val_loss: nan - val_acc: 0.6491\n",
      "Epoch 3/9\n",
      "110288/110288 [==============================] - 48s 431us/step - loss: 1.1375 - acc: 0.6893 - val_loss: nan - val_acc: 0.7235\n",
      "Epoch 4/9\n",
      "110288/110288 [==============================] - 47s 430us/step - loss: 0.9204 - acc: 0.7438 - val_loss: nan - val_acc: 0.7689\n",
      "Epoch 5/9\n",
      "110288/110288 [==============================] - 48s 431us/step - loss: 0.7297 - acc: 0.7925 - val_loss: nan - val_acc: 0.8171\n",
      "Epoch 6/9\n",
      "110288/110288 [==============================] - 47s 430us/step - loss: 0.5462 - acc: 0.8451 - val_loss: nan - val_acc: 0.8644\n",
      "Epoch 7/9\n",
      "110288/110288 [==============================] - 48s 432us/step - loss: 0.3942 - acc: 0.8915 - val_loss: nan - val_acc: 0.9101\n",
      "Epoch 8/9\n",
      "110288/110288 [==============================] - 47s 431us/step - loss: 0.2808 - acc: 0.9288 - val_loss: nan - val_acc: 0.8924\n",
      "Epoch 9/9\n",
      "110288/110288 [==============================] - 48s 432us/step - loss: 0.2091 - acc: 0.9475 - val_loss: nan - val_acc: 0.9510\n",
      "new jersey est parfois calme au l' automne et il est neigeux en avril <PAD> <PAD> <PAD> <PAD> <PAD> <PAD> <PAD>\n"
     ]
    }
   ],
   "source": [
    "def model_final(input_shape, output_sequence_length, english_vocab_size, french_vocab_size):\n",
    "    \"\"\"\n",
    "    Build and train a model that incorporates embedding, encoder-decoder, and bidirectional RNN on x and y\n",
    "    :param input_shape: Tuple of input shape\n",
    "    :param output_sequence_length: Length of output sequence\n",
    "    :param english_vocab_size: Number of unique English words in the dataset\n",
    "    :param french_vocab_size: Number of unique French words in the dataset\n",
    "    :return: Keras model built, but not trained\n",
    "    \"\"\"\n",
    "    # TODO: Implement\n",
    "    learning_rate = 0.004\n",
    "    # Define encoder Input\n",
    "    enc_input = Input(shape=input_shape[1:])\n",
    "\n",
    "    # Define the Enconder with 256 Units using repeat vector\n",
    "    emb = Embedding(english_vocab_size,512)(enc_input)\n",
    "    encoder = Bidirectional(LSTM(256))(emb)\n",
    "    encoder_out = RepeatVector(output_sequence_length)(encoder)\n",
    "    \n",
    "    # Defining the Decoder with 256 Units and returning sequences\n",
    "    decoder = LSTM(256,return_sequences=True)\n",
    "\n",
    "    # Output uses enconder output\n",
    "    decoder_out = decoder(encoder_out)\n",
    "    logits = Dense(french_vocab_size,activation='softmax')(decoder_out)\n",
    "\n",
    "    model = Model(enc_input,logits)\n",
    "\n",
    "    model.compile(loss=sparse_categorical_crossentropy,optimizer=Adam(learning_rate),metrics=['accuracy'])\n",
    "\n",
    "    return model\n",
    "    tests.test_model_final(model_final)\n",
    "    \n",
    "\n",
    "print('Final Model Loaded')\n",
    "# TODO: Train the final model\n",
    "# Reshaping the input to work with a basic RNN\n",
    "tmp_x = pad(preproc_english_sentences, max_french_sequence_length)\n",
    "\n",
    "# Train the neural network\n",
    "final_model = model_final(\n",
    "    tmp_x.shape,\n",
    "    max_french_sequence_length,\n",
    "    english_vocab_size,\n",
    "    french_vocab_size)\n",
    "final_model.fit(tmp_x, preproc_french_sentences, batch_size=1024, epochs=9, validation_split=0.2)\n",
    "\n",
    "# Print prediction(s)\n",
    "print(logits_to_text(final_model.predict(tmp_x[:1])[0], french_tokenizer))"
   ]
  },
  {
   "cell_type": "markdown",
   "metadata": {},
   "source": [
    "## Prediction (IMPLEMENTATION)"
   ]
  },
  {
   "cell_type": "code",
   "execution_count": null,
   "metadata": {},
   "outputs": [],
   "source": []
  },
  {
   "cell_type": "code",
   "execution_count": 73,
   "metadata": {},
   "outputs": [
    {
     "name": "stdout",
     "output_type": "stream",
     "text": [
      "Train on 110288 samples, validate on 27573 samples\n",
      "Epoch 1/9\n",
      "110288/110288 [==============================] - 41s 376us/step - loss: 2.4730 - acc: 0.4821 - val_loss: nan - val_acc: 0.5880\n",
      "Epoch 2/9\n",
      "110288/110288 [==============================] - 40s 358us/step - loss: 1.3815 - acc: 0.6335 - val_loss: nan - val_acc: 0.6788\n",
      "Epoch 3/9\n",
      "110288/110288 [==============================] - 40s 358us/step - loss: 0.9891 - acc: 0.7216 - val_loss: nan - val_acc: 0.7649\n",
      "Epoch 4/9\n",
      "110288/110288 [==============================] - 40s 359us/step - loss: 0.6852 - acc: 0.8018 - val_loss: nan - val_acc: 0.8405\n",
      "Epoch 5/9\n",
      "110288/110288 [==============================] - 40s 359us/step - loss: 0.4434 - acc: 0.8747 - val_loss: nan - val_acc: 0.9058\n",
      "Epoch 6/9\n",
      "110288/110288 [==============================] - 40s 359us/step - loss: 0.2813 - acc: 0.9294 - val_loss: nan - val_acc: 0.9468\n",
      "Epoch 7/9\n",
      "110288/110288 [==============================] - 40s 359us/step - loss: 0.1875 - acc: 0.9550 - val_loss: nan - val_acc: 0.9581\n",
      "Epoch 8/9\n",
      "110288/110288 [==============================] - 40s 359us/step - loss: 0.1416 - acc: 0.9653 - val_loss: nan - val_acc: 0.9646\n",
      "Epoch 9/9\n",
      "110288/110288 [==============================] - 40s 359us/step - loss: 0.1132 - acc: 0.9716 - val_loss: nan - val_acc: 0.9661\n",
      "Sample 1:\n",
      "il a vu un vieux camion jaune <PAD> <PAD> <PAD> <PAD> <PAD> <PAD> <PAD> <PAD> <PAD> <PAD> <PAD> <PAD> <PAD> <PAD>\n",
      "Il a vu un vieux camion jaune\n",
      "Sample 2:\n",
      "new jersey est parfois calme pendant l' automne et il est neigeux en avril <PAD> <PAD> <PAD> <PAD> <PAD> <PAD> <PAD>\n",
      "new jersey est parfois calme pendant l' automne et il est neigeux en avril <PAD> <PAD> <PAD> <PAD> <PAD> <PAD> <PAD>\n"
     ]
    }
   ],
   "source": [
    "def final_predictions(x, y, x_tk, y_tk):\n",
    "    \"\"\"\n",
    "    Gets predictions using the final model\n",
    "    :param x: Preprocessed English data\n",
    "    :param y: Preprocessed French data\n",
    "    :param x_tk: English tokenizer\n",
    "    :param y_tk: French tokenizer\n",
    "    \"\"\"\n",
    "    # TODO: Train neural network using model_final\n",
    "    tmp_x = pad(preproc_english_sentences, max_english_sequence_length)\n",
    "\n",
    "    model = model_final(tmp_x.shape, max_french_sequence_length,english_vocab_size,french_vocab_size)\n",
    "    model.fit(tmp_x,preproc_french_sentences, batch_size=1024, epochs=9, validation_split=0.2)\n",
    "\n",
    "    \n",
    "    ## DON'T EDIT ANYTHING BELOW THIS LINE\n",
    "    y_id_to_word = {value: key for key, value in y_tk.word_index.items()}\n",
    "    y_id_to_word[0] = '<PAD>'\n",
    "\n",
    "    sentence = 'he saw a old yellow truck'\n",
    "    sentence = [x_tk.word_index[word] for word in sentence.split()]\n",
    "    sentence = pad_sequences([sentence], maxlen=x.shape[-1], padding='post')\n",
    "    sentences = np.array([sentence[0], x[0]])\n",
    "    predictions = model.predict(sentences, len(sentences))\n",
    "\n",
    "    print('Sample 1:')\n",
    "    print(' '.join([y_id_to_word[np.argmax(x)] for x in predictions[0]]))\n",
    "    print('Il a vu un vieux camion jaune')\n",
    "    print('Sample 2:')\n",
    "    print(' '.join([y_id_to_word[np.argmax(x)] for x in predictions[1]]))\n",
    "    print(' '.join([y_id_to_word[np.max(x)] for x in y[0]]))\n",
    "\n",
    "\n",
    "final_predictions(preproc_english_sentences, preproc_french_sentences, english_tokenizer, french_tokenizer)"
   ]
  },
  {
   "cell_type": "markdown",
   "metadata": {},
   "source": [
    "## Submission\n",
    "When you're ready to submit, complete the following steps:\n",
    "1. Review the rubric to ensure your submission meets all requirements to pass\n",
    "2. Generate an HTML version of this notebook\n",
    "\n",
    "  - Run the next cell to attempt automatic generation (this is the recommended method in Workspaces)\n",
    "  - Navigate to **FILE -> Download as -> HTML (.html)**\n",
    "  - Manually generate a copy using `nbconvert` from your shell terminal\n",
    "```\n",
    "$ pip install nbconvert\n",
    "$ python -m nbconvert machine_translation.ipynb\n",
    "```\n",
    "  \n",
    "3. Submit the project\n",
    "\n",
    "  - If you are in a Workspace, simply click the \"Submit Project\" button (bottom towards the right)\n",
    "  \n",
    "  - Otherwise, add the following files into a zip archive and submit them \n",
    "  - `helper.py`\n",
    "  - `machine_translation.ipynb`\n",
    "  - `machine_translation.html`\n",
    "    - You can export the notebook by navigating to **File -> Download as -> HTML (.html)**."
   ]
  },
  {
   "cell_type": "markdown",
   "metadata": {},
   "source": [
    "### Generate the html\n",
    "\n",
    "**Save your notebook before running the next cell to generate the HTML output.** Then submit your project."
   ]
  },
  {
   "cell_type": "code",
   "execution_count": 75,
   "metadata": {},
   "outputs": [
    {
     "data": {
      "text/plain": [
       "['[NbConvertApp] Converting notebook machine_translation.ipynb to html',\n",
       " '[NbConvertApp] Writing 374873 bytes to machine_translation.html',\n",
       " '[NbConvertApp] Converting notebook machine_translation-zh.ipynb to html',\n",
       " '[NbConvertApp] Writing 328544 bytes to machine_translation-zh.html']"
      ]
     },
     "execution_count": 75,
     "metadata": {},
     "output_type": "execute_result"
    }
   ],
   "source": [
    "# Save before you run this cell!\n",
    "!!jupyter nbconvert *.ipynb"
   ]
  },
  {
   "cell_type": "markdown",
   "metadata": {},
   "source": [
    "## Optional Enhancements\n",
    "\n",
    "This project focuses on learning various network architectures for machine translation, but we don't evaluate the models according to best practices by splitting the data into separate test & training sets -- so the model accuracy is overstated. Use the [`sklearn.model_selection.train_test_split()`](http://scikit-learn.org/stable/modules/generated/sklearn.model_selection.train_test_split.html) function to create separate training & test datasets, then retrain each of the models using only the training set and evaluate the prediction accuracy using the hold out test set. Does the \"best\" model change?"
   ]
  }
 ],
 "metadata": {
  "kernelspec": {
   "display_name": "Python 3",
   "language": "python",
   "name": "python3"
  },
  "language_info": {
   "codemirror_mode": {
    "name": "ipython",
    "version": 3
   },
   "file_extension": ".py",
   "mimetype": "text/x-python",
   "name": "python",
   "nbconvert_exporter": "python",
   "pygments_lexer": "ipython3",
   "version": "3.6.3"
  }
 },
 "nbformat": 4,
 "nbformat_minor": 1
}
